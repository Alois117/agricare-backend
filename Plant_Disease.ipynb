{
  "cells": [
    {
      "cell_type": "code",
      "execution_count": 31,
      "metadata": {
        "id": "ricvi6zBt8GT"
      },
      "outputs": [],
      "source": [
        "# Install required libraries\n",
        "!pip install -q tensorflow opencv-python-headless xgboost catboost scikit-learn pandas seaborn matplotlib gdown\n",
        "\n",
        "\n",
        "# Install gdown for downloading from Google Drive\n",
        "import gdown\n"
      ]
    },
    {
      "cell_type": "code",
      "execution_count": 32,
      "metadata": {
        "colab": {
          "base_uri": "https://localhost:8080/"
        },
        "id": "qgXDP8RfuHpz",
        "outputId": "696ca417-f889-4fcb-f49e-2719d95b3205"
      },
      "outputs": [
        {
          "output_type": "stream",
          "name": "stderr",
          "text": [
            "Downloading...\n",
            "From (original): https://drive.google.com/uc?id=1uszaEmTOM6Y7lqoEHAKHVSrVqLrLGxAE\n",
            "From (redirected): https://drive.google.com/uc?id=1uszaEmTOM6Y7lqoEHAKHVSrVqLrLGxAE&confirm=t&uuid=adae7afe-8280-44e8-a4df-ec59af6be445\n",
            "To: /content/plantvillage.zip\n",
            "100%|██████████| 690M/690M [00:11<00:00, 61.1MB/s]\n"
          ]
        },
        {
          "output_type": "stream",
          "name": "stdout",
          "text": [
            "replace /content/PlantVillage/Pepper__bell___Bacterial_spot/0022d6b7-d47c-4ee2-ae9a-392a53f48647___JR_B.Spot 8964.JPG? [y]es, [n]o, [A]ll, [N]one, [r]ename: A\n",
            "A\n"
          ]
        }
      ],
      "source": [
        "# Download PlantVillage (Image Dataset)\n",
        "plantvillage_id = \"1uszaEmTOM6Y7lqoEHAKHVSrVqLrLGxAE\"\n",
        "\n",
        "gdown.download(f\"https://drive.google.com/uc?id={plantvillage_id}\", \"/content/plantvillage.zip\", quiet=False)\n",
        "\n",
        "# Unzip the datasets\n",
        "!unzip -q /content/plantvillage.zip -d /content/\n"
      ]
    },
    {
      "cell_type": "code",
      "execution_count": 33,
      "metadata": {
        "colab": {
          "base_uri": "https://localhost:8080/"
        },
        "id": "T9flrxl6ugVC",
        "outputId": "d60d1cb7-ff28-4c98-aa78-fc872a752b1b"
      },
      "outputs": [
        {
          "output_type": "stream",
          "name": "stdout",
          "text": [
            "🔍 Loading Pepper__bell___Bacterial_spot:\n"
          ]
        },
        {
          "output_type": "stream",
          "name": "stderr",
          "text": [
            "100%|██████████| 997/997 [00:00<00:00, 1370.79it/s]\n"
          ]
        },
        {
          "output_type": "stream",
          "name": "stdout",
          "text": [
            "🔍 Loading Pepper__bell___healthy:\n"
          ]
        },
        {
          "output_type": "stream",
          "name": "stderr",
          "text": [
            "100%|██████████| 1478/1478 [00:00<00:00, 1576.76it/s]\n"
          ]
        },
        {
          "output_type": "stream",
          "name": "stdout",
          "text": [
            "🔍 Loading Potato___Early_blight:\n"
          ]
        },
        {
          "output_type": "stream",
          "name": "stderr",
          "text": [
            "100%|██████████| 1000/1000 [00:01<00:00, 994.59it/s]\n"
          ]
        },
        {
          "output_type": "stream",
          "name": "stdout",
          "text": [
            "🔍 Loading Potato___Late_blight:\n"
          ]
        },
        {
          "output_type": "stream",
          "name": "stderr",
          "text": [
            "100%|██████████| 1000/1000 [00:01<00:00, 638.99it/s]\n"
          ]
        },
        {
          "output_type": "stream",
          "name": "stdout",
          "text": [
            "🔍 Loading Potato___healthy:\n"
          ]
        },
        {
          "output_type": "stream",
          "name": "stderr",
          "text": [
            "100%|██████████| 152/152 [00:00<00:00, 502.77it/s]\n"
          ]
        },
        {
          "output_type": "stream",
          "name": "stdout",
          "text": [
            "🔍 Loading Tomato_Bacterial_spot:\n"
          ]
        },
        {
          "output_type": "stream",
          "name": "stderr",
          "text": [
            "100%|██████████| 2127/2127 [00:01<00:00, 1385.36it/s]\n"
          ]
        },
        {
          "output_type": "stream",
          "name": "stdout",
          "text": [
            "🔍 Loading Tomato_Early_blight:\n"
          ]
        },
        {
          "output_type": "stream",
          "name": "stderr",
          "text": [
            "100%|██████████| 1000/1000 [00:00<00:00, 1064.83it/s]\n"
          ]
        },
        {
          "output_type": "stream",
          "name": "stdout",
          "text": [
            "🔍 Loading Tomato_Late_blight:\n"
          ]
        },
        {
          "output_type": "stream",
          "name": "stderr",
          "text": [
            "100%|██████████| 1909/1909 [00:01<00:00, 1231.83it/s]\n"
          ]
        },
        {
          "output_type": "stream",
          "name": "stdout",
          "text": [
            "🔍 Loading Tomato_Leaf_Mold:\n"
          ]
        },
        {
          "output_type": "stream",
          "name": "stderr",
          "text": [
            "100%|██████████| 952/952 [00:00<00:00, 1582.33it/s]\n"
          ]
        },
        {
          "output_type": "stream",
          "name": "stdout",
          "text": [
            "🔍 Loading Tomato_Septoria_leaf_spot:\n"
          ]
        },
        {
          "output_type": "stream",
          "name": "stderr",
          "text": [
            "100%|██████████| 1771/1771 [00:01<00:00, 1559.97it/s]\n"
          ]
        },
        {
          "output_type": "stream",
          "name": "stdout",
          "text": [
            "🔍 Loading Tomato_Spider_mites_Two_spotted_spider_mite:\n"
          ]
        },
        {
          "output_type": "stream",
          "name": "stderr",
          "text": [
            "100%|██████████| 1676/1676 [00:01<00:00, 1509.92it/s]\n"
          ]
        },
        {
          "output_type": "stream",
          "name": "stdout",
          "text": [
            "🔍 Loading Tomato__Target_Spot:\n"
          ]
        },
        {
          "output_type": "stream",
          "name": "stderr",
          "text": [
            "100%|██████████| 1404/1404 [00:00<00:00, 1427.81it/s]\n"
          ]
        },
        {
          "output_type": "stream",
          "name": "stdout",
          "text": [
            "🔍 Loading Tomato__Tomato_YellowLeaf__Curl_Virus:\n"
          ]
        },
        {
          "output_type": "stream",
          "name": "stderr",
          "text": [
            "100%|██████████| 3209/3209 [00:01<00:00, 1757.74it/s]\n"
          ]
        },
        {
          "output_type": "stream",
          "name": "stdout",
          "text": [
            "🔍 Loading Tomato__Tomato_mosaic_virus:\n"
          ]
        },
        {
          "output_type": "stream",
          "name": "stderr",
          "text": [
            "100%|██████████| 373/373 [00:00<00:00, 1512.71it/s]\n"
          ]
        },
        {
          "output_type": "stream",
          "name": "stdout",
          "text": [
            "🔍 Loading Tomato_healthy:\n"
          ]
        },
        {
          "output_type": "stream",
          "name": "stderr",
          "text": [
            "100%|██████████| 1591/1591 [00:01<00:00, 1402.36it/s]\n"
          ]
        },
        {
          "output_type": "stream",
          "name": "stdout",
          "text": [
            "✅ Images loaded. Train: (16510, 64, 64, 3), Test: (4128, 64, 64, 3)\n",
            "🧾 Classes: ['Pepper__bell___Bacterial_spot', 'Pepper__bell___healthy', 'Potato___Early_blight', 'Potato___Late_blight', 'Potato___healthy', 'Tomato_Bacterial_spot', 'Tomato_Early_blight', 'Tomato_Late_blight', 'Tomato_Leaf_Mold', 'Tomato_Septoria_leaf_spot', 'Tomato_Spider_mites_Two_spotted_spider_mite', 'Tomato__Target_Spot', 'Tomato__Tomato_YellowLeaf__Curl_Virus', 'Tomato__Tomato_mosaic_virus', 'Tomato_healthy']\n"
          ]
        }
      ],
      "source": [
        "import os\n",
        "import cv2\n",
        "import numpy as np\n",
        "from tqdm import tqdm\n",
        "from sklearn.model_selection import train_test_split\n",
        "from tensorflow.keras.utils import to_categorical\n",
        "from tensorflow.keras.preprocessing.image import ImageDataGenerator\n",
        "\n",
        "# Constants\n",
        "IMG_SIZE = 64\n",
        "DATA_DIR = \"/content/PlantVillage\"\n",
        "CATEGORIES = sorted(os.listdir(DATA_DIR))  # Folder names = class names\n",
        "\n",
        "# Load and preprocess images\n",
        "def load_images(data_dir, categories):\n",
        "    X, y = [], []\n",
        "    for idx, category in enumerate(categories):\n",
        "        category_path = os.path.join(data_dir, category)\n",
        "        if not os.path.isdir(category_path): continue\n",
        "        print(f\" Loading {category}:\")\n",
        "        for img_name in tqdm(os.listdir(category_path)):\n",
        "            img_path = os.path.join(category_path, img_name)\n",
        "            try:\n",
        "                img = cv2.imread(img_path)\n",
        "                img = cv2.resize(img, (IMG_SIZE, IMG_SIZE))\n",
        "                X.append(img)\n",
        "                y.append(idx)\n",
        "            except:\n",
        "                pass\n",
        "    return np.array(X), to_categorical(np.array(y), num_classes=len(categories))\n",
        "\n",
        "X_img, y_img = load_images(DATA_DIR, CATEGORIES)\n",
        "\n",
        "# Normalize pixel values\n",
        "X_img = X_img.astype('float32') / 255.0\n",
        "\n",
        "# Split\n",
        "X_img_train, X_img_test, y_img_train, y_img_test = train_test_split(X_img, y_img, test_size=0.2, random_state=42)\n",
        "\n",
        "print(f\" Images loaded. Train: {X_img_train.shape}, Test: {X_img_test.shape}\")\n",
        "print(f\" Classes: {CATEGORIES}\")\n"
      ]
    },
    {
      "cell_type": "code",
      "execution_count": 34,
      "metadata": {
        "id": "twKbRtV3we_X",
        "colab": {
          "base_uri": "https://localhost:8080/"
        },
        "outputId": "0aecd73a-2119-47bd-adb7-e084e5818e61"
      },
      "outputs": [
        {
          "output_type": "stream",
          "name": "stdout",
          "text": [
            "Epoch 1/30\n",
            "\u001b[1m516/516\u001b[0m \u001b[32m━━━━━━━━━━━━━━━━━━━━\u001b[0m\u001b[37m\u001b[0m \u001b[1m134s\u001b[0m 257ms/step - accuracy: 0.2648 - loss: 2.2736 - val_accuracy: 0.6296 - val_loss: 1.2073 - learning_rate: 0.0010\n",
            "Epoch 2/30\n",
            "\u001b[1m516/516\u001b[0m \u001b[32m━━━━━━━━━━━━━━━━━━━━\u001b[0m\u001b[37m\u001b[0m \u001b[1m123s\u001b[0m 239ms/step - accuracy: 0.4958 - loss: 1.5430 - val_accuracy: 0.7323 - val_loss: 0.8488 - learning_rate: 0.0010\n",
            "Epoch 3/30\n",
            "\u001b[1m516/516\u001b[0m \u001b[32m━━━━━━━━━━━━━━━━━━━━\u001b[0m\u001b[37m\u001b[0m \u001b[1m124s\u001b[0m 241ms/step - accuracy: 0.5608 - loss: 1.3294 - val_accuracy: 0.7284 - val_loss: 0.8110 - learning_rate: 0.0010\n",
            "Epoch 4/30\n",
            "\u001b[1m516/516\u001b[0m \u001b[32m━━━━━━━━━━━━━━━━━━━━\u001b[0m\u001b[37m\u001b[0m \u001b[1m137s\u001b[0m 232ms/step - accuracy: 0.6010 - loss: 1.1803 - val_accuracy: 0.7817 - val_loss: 0.6639 - learning_rate: 0.0010\n",
            "Epoch 5/30\n",
            "\u001b[1m516/516\u001b[0m \u001b[32m━━━━━━━━━━━━━━━━━━━━\u001b[0m\u001b[37m\u001b[0m \u001b[1m146s\u001b[0m 240ms/step - accuracy: 0.6339 - loss: 1.1121 - val_accuracy: 0.8072 - val_loss: 0.6120 - learning_rate: 0.0010\n",
            "Epoch 6/30\n",
            "\u001b[1m516/516\u001b[0m \u001b[32m━━━━━━━━━━━━━━━━━━━━\u001b[0m\u001b[37m\u001b[0m \u001b[1m128s\u001b[0m 248ms/step - accuracy: 0.6440 - loss: 1.0523 - val_accuracy: 0.7742 - val_loss: 0.6705 - learning_rate: 0.0010\n",
            "Epoch 7/30\n",
            "\u001b[1m516/516\u001b[0m \u001b[32m━━━━━━━━━━━━━━━━━━━━\u001b[0m\u001b[37m\u001b[0m \u001b[1m123s\u001b[0m 239ms/step - accuracy: 0.6510 - loss: 1.0155 - val_accuracy: 0.8261 - val_loss: 0.5529 - learning_rate: 0.0010\n",
            "Epoch 8/30\n",
            "\u001b[1m516/516\u001b[0m \u001b[32m━━━━━━━━━━━━━━━━━━━━\u001b[0m\u001b[37m\u001b[0m \u001b[1m118s\u001b[0m 229ms/step - accuracy: 0.6630 - loss: 0.9729 - val_accuracy: 0.7854 - val_loss: 0.6579 - learning_rate: 0.0010\n",
            "Epoch 9/30\n",
            "\u001b[1m516/516\u001b[0m \u001b[32m━━━━━━━━━━━━━━━━━━━━\u001b[0m\u001b[37m\u001b[0m \u001b[1m0s\u001b[0m 216ms/step - accuracy: 0.6732 - loss: 0.9491\n",
            "Epoch 9: ReduceLROnPlateau reducing learning rate to 0.00020000000949949026.\n",
            "\u001b[1m516/516\u001b[0m \u001b[32m━━━━━━━━━━━━━━━━━━━━\u001b[0m\u001b[37m\u001b[0m \u001b[1m118s\u001b[0m 229ms/step - accuracy: 0.6732 - loss: 0.9491 - val_accuracy: 0.8035 - val_loss: 0.5891 - learning_rate: 0.0010\n",
            "Epoch 10/30\n",
            "\u001b[1m516/516\u001b[0m \u001b[32m━━━━━━━━━━━━━━━━━━━━\u001b[0m\u001b[37m\u001b[0m \u001b[1m146s\u001b[0m 236ms/step - accuracy: 0.7140 - loss: 0.8190 - val_accuracy: 0.8382 - val_loss: 0.4887 - learning_rate: 2.0000e-04\n",
            "Epoch 11/30\n",
            "\u001b[1m516/516\u001b[0m \u001b[32m━━━━━━━━━━━━━━━━━━━━\u001b[0m\u001b[37m\u001b[0m \u001b[1m119s\u001b[0m 230ms/step - accuracy: 0.7292 - loss: 0.8000 - val_accuracy: 0.8200 - val_loss: 0.5115 - learning_rate: 2.0000e-04\n",
            "Epoch 12/30\n",
            "\u001b[1m516/516\u001b[0m \u001b[32m━━━━━━━━━━━━━━━━━━━━\u001b[0m\u001b[37m\u001b[0m \u001b[1m0s\u001b[0m 217ms/step - accuracy: 0.7315 - loss: 0.7688\n",
            "Epoch 12: ReduceLROnPlateau reducing learning rate to 4.0000001899898055e-05.\n",
            "\u001b[1m516/516\u001b[0m \u001b[32m━━━━━━━━━━━━━━━━━━━━\u001b[0m\u001b[37m\u001b[0m \u001b[1m123s\u001b[0m 237ms/step - accuracy: 0.7315 - loss: 0.7688 - val_accuracy: 0.8200 - val_loss: 0.5287 - learning_rate: 2.0000e-04\n",
            "Epoch 13/30\n",
            "\u001b[1m516/516\u001b[0m \u001b[32m━━━━━━━━━━━━━━━━━━━━\u001b[0m\u001b[37m\u001b[0m \u001b[1m123s\u001b[0m 239ms/step - accuracy: 0.7369 - loss: 0.7390 - val_accuracy: 0.8425 - val_loss: 0.4638 - learning_rate: 4.0000e-05\n",
            "Epoch 14/30\n",
            "\u001b[1m516/516\u001b[0m \u001b[32m━━━━━━━━━━━━━━━━━━━━\u001b[0m\u001b[37m\u001b[0m \u001b[1m121s\u001b[0m 234ms/step - accuracy: 0.7521 - loss: 0.7226 - val_accuracy: 0.8433 - val_loss: 0.4634 - learning_rate: 4.0000e-05\n",
            "Epoch 15/30\n",
            "\u001b[1m516/516\u001b[0m \u001b[32m━━━━━━━━━━━━━━━━━━━━\u001b[0m\u001b[37m\u001b[0m \u001b[1m121s\u001b[0m 234ms/step - accuracy: 0.7538 - loss: 0.7112 - val_accuracy: 0.8411 - val_loss: 0.4642 - learning_rate: 4.0000e-05\n",
            "Epoch 16/30\n",
            "\u001b[1m516/516\u001b[0m \u001b[32m━━━━━━━━━━━━━━━━━━━━\u001b[0m\u001b[37m\u001b[0m \u001b[1m122s\u001b[0m 236ms/step - accuracy: 0.7481 - loss: 0.7276 - val_accuracy: 0.8425 - val_loss: 0.4576 - learning_rate: 4.0000e-05\n",
            "Epoch 17/30\n",
            "\u001b[1m516/516\u001b[0m \u001b[32m━━━━━━━━━━━━━━━━━━━━\u001b[0m\u001b[37m\u001b[0m \u001b[1m118s\u001b[0m 228ms/step - accuracy: 0.7542 - loss: 0.7145 - val_accuracy: 0.8411 - val_loss: 0.4644 - learning_rate: 4.0000e-05\n",
            "Epoch 18/30\n",
            "\u001b[1m516/516\u001b[0m \u001b[32m━━━━━━━━━━━━━━━━━━━━\u001b[0m\u001b[37m\u001b[0m \u001b[1m119s\u001b[0m 232ms/step - accuracy: 0.7514 - loss: 0.7194 - val_accuracy: 0.8447 - val_loss: 0.4551 - learning_rate: 4.0000e-05\n",
            "Epoch 19/30\n",
            "\u001b[1m516/516\u001b[0m \u001b[32m━━━━━━━━━━━━━━━━━━━━\u001b[0m\u001b[37m\u001b[0m \u001b[1m127s\u001b[0m 245ms/step - accuracy: 0.7491 - loss: 0.7151 - val_accuracy: 0.8384 - val_loss: 0.4609 - learning_rate: 4.0000e-05\n",
            "Epoch 20/30\n",
            "\u001b[1m516/516\u001b[0m \u001b[32m━━━━━━━━━━━━━━━━━━━━\u001b[0m\u001b[37m\u001b[0m \u001b[1m0s\u001b[0m 218ms/step - accuracy: 0.7523 - loss: 0.7118\n",
            "Epoch 20: ReduceLROnPlateau reducing learning rate to 8.000000525498762e-06.\n",
            "\u001b[1m516/516\u001b[0m \u001b[32m━━━━━━━━━━━━━━━━━━━━\u001b[0m\u001b[37m\u001b[0m \u001b[1m119s\u001b[0m 231ms/step - accuracy: 0.7523 - loss: 0.7118 - val_accuracy: 0.8421 - val_loss: 0.4554 - learning_rate: 4.0000e-05\n",
            "Epoch 21/30\n",
            "\u001b[1m516/516\u001b[0m \u001b[32m━━━━━━━━━━━━━━━━━━━━\u001b[0m\u001b[37m\u001b[0m \u001b[1m123s\u001b[0m 238ms/step - accuracy: 0.7504 - loss: 0.7274 - val_accuracy: 0.8379 - val_loss: 0.4648 - learning_rate: 8.0000e-06\n",
            "Epoch 21: early stopping\n",
            "Restoring model weights from the end of the best epoch: 18.\n"
          ]
        }
      ],
      "source": [
        "import tensorflow as tf\n",
        "from tensorflow.keras.models import Sequential\n",
        "from tensorflow.keras.layers import Conv2D, MaxPooling2D, Flatten, Dense, Dropout\n",
        "from tensorflow.keras.preprocessing.image import ImageDataGenerator\n",
        "from tensorflow.keras.callbacks import EarlyStopping, ReduceLROnPlateau\n",
        "\n",
        "# Image Size (Assuming 64x64)\n",
        "IMG_SIZE = 64\n",
        "\n",
        "# Image Augmentation\n",
        "datagen = ImageDataGenerator(\n",
        "    rotation_range=20,\n",
        "    zoom_range=0.2,\n",
        "    width_shift_range=0.1,\n",
        "    height_shift_range=0.1,\n",
        "    horizontal_flip=True\n",
        ")\n",
        "datagen.fit(X_img_train)\n",
        "\n",
        "# Improved CNN Architecture\n",
        "model = Sequential([\n",
        "    Conv2D(32, (3, 3), activation='relu', input_shape=(IMG_SIZE, IMG_SIZE, 3)),\n",
        "    MaxPooling2D(2, 2),\n",
        "\n",
        "    Conv2D(64, (3, 3), activation='relu'),\n",
        "    MaxPooling2D(2, 2),\n",
        "\n",
        "    Flatten(),\n",
        "    Dense(128, activation='relu'),\n",
        "    Dropout(0.6),  # Increased dropout\n",
        "    Dense(len(CATEGORIES), activation='softmax')\n",
        "])\n",
        "\n",
        "# Compile Model\n",
        "model.compile(optimizer='adam', loss='categorical_crossentropy', metrics=['accuracy'])\n",
        "\n",
        "# Callbacks\n",
        "early_stop = EarlyStopping(monitor='val_loss', patience=3, restore_best_weights=True, verbose=1)\n",
        "lr_reduce = ReduceLROnPlateau(monitor='val_loss', factor=0.2, patience=2, verbose=1)\n",
        "\n",
        "# Train Model\n",
        "history = model.fit(\n",
        "    datagen.flow(X_img_train, y_img_train, batch_size=32),\n",
        "    epochs=30,\n",
        "    validation_data=(X_img_test, y_img_test),\n",
        "    callbacks=[early_stop, lr_reduce]\n",
        ")\n"
      ]
    },
    {
      "cell_type": "code",
      "execution_count": 35,
      "metadata": {
        "id": "JrlHu-P5KcU0",
        "colab": {
          "base_uri": "https://localhost:8080/",
          "height": 927
        },
        "outputId": "888dcad6-4a39-492e-b05b-997762aebfff"
      },
      "outputs": [
        {
          "output_type": "display_data",
          "data": {
            "text/plain": [
              "<Figure size 640x480 with 1 Axes>"
            ],
            "image/png": "[encoded data removed]"
          },
          "metadata": {}
        },
        {
          "output_type": "display_data",
          "data": {
            "text/plain": [
              "<Figure size 640x480 with 1 Axes>"
            ],
            "image/png": "[encoded data removed]"
          },
          "metadata": {}
        }
      ],
      "source": [
        "import matplotlib.pyplot as plt\n",
        "\n",
        "# Accuracy plot\n",
        "plt.plot(history.history['accuracy'], label='Train Accuracy')\n",
        "plt.plot(history.history['val_accuracy'], label='Validation Accuracy')\n",
        "plt.title('Model Accuracy')\n",
        "plt.xlabel('Epoch')\n",
        "plt.ylabel('Accuracy')\n",
        "plt.legend()\n",
        "plt.show()\n",
        "\n",
        "# Loss plot\n",
        "plt.plot(history.history['loss'], label='Train Loss')\n",
        "plt.plot(history.history['val_loss'], label='Validation Loss')\n",
        "plt.title('Model Loss')\n",
        "plt.xlabel('Epoch')\n",
        "plt.ylabel('Loss')\n",
        "plt.legend()\n",
        "plt.show()\n"
      ]
    },
    {
      "cell_type": "code",
      "execution_count": 36,
      "metadata": {
        "id": "_HJ9Ro-djAj5",
        "colab": {
          "base_uri": "https://localhost:8080/"
        },
        "outputId": "34a635e5-58fa-433f-cebe-a939e1c17b91"
      },
      "outputs": [
        {
          "output_type": "stream",
          "name": "stderr",
          "text": [
            "WARNING:absl:You are saving your model as an HDF5 file via `model.save()` or `keras.saving.save_model(model)`. This file format is considered legacy. We recommend using instead the native Keras format, e.g. `model.save('my_model.keras')` or `keras.saving.save_model(model, 'my_model.keras')`. \n"
          ]
        }
      ],
      "source": [
        "model.save(\"plant_disease_model.h5\")  # for image disease model built with Keras\n"
      ]
    }
  ],
  "metadata": {
    "colab": {
      "provenance": []
    },
    "kernelspec": {
      "display_name": "Python 3",
      "name": "python3"
    },
    "language_info": {
      "name": "python"
    }
  },
  "nbformat": 4,
  "nbformat_minor": 0
}